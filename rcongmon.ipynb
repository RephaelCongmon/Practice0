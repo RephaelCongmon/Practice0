{
 "cells": [
  {
   "cell_type": "code",
   "execution_count": 1,
   "metadata": {},
   "outputs": [
    {
     "name": "stdout",
     "output_type": "stream",
     "text": [
      "IPython version:      %6.6s 7.17.0\n"
     ]
    }
   ],
   "source": [
    "import IPython\n",
    "import json\n",
    "# Numpy is a library for working with Arrays\n",
    "import numpy as np\n",
    "# SciPy implements many different numerical algorithms\n",
    "import scipy as sp\n",
    "# Pandas is good with data tables\n",
    "import pandas as pd\n",
    "# Module for plotting\n",
    "import matplotlib\n",
    "#BeautifulSoup parses HTML documents (once you get them via requests)\n",
    "import bs4\n",
    "# Nltk helps with some natural language tasks, like stemming\n",
    "import nltk\n",
    "# Bson is a binary format of json to be stored in databases\n",
    "import bson\n",
    "# Mongo is one of common nosql databases \n",
    "# it stores/searches json documents natively\n",
    "import pymongo\n",
    "print (\"IPython version:      %6.6s\", IPython.__version__)"
   ]
  },
  {
   "cell_type": "code",
   "execution_count": 2,
   "metadata": {},
   "outputs": [
    {
     "name": "stdout",
     "output_type": "stream",
     "text": [
      "Make a 2 row x 3 column array of random numbers\n",
      "[[0.35657976 0.56842876 0.70888426]\n",
      " [0.56147684 0.04038492 0.27796032]]\n",
      "Add 5 to every element\n",
      "[[5.35657976 5.56842876 5.70888426]\n",
      " [5.56147684 5.04038492 5.27796032]]\n",
      "Get the first row\n",
      "[5.35657976 5.56842876 5.70888426]\n"
     ]
    }
   ],
   "source": [
    "#Here is what numpy can do\\n\",\n",
    "print (\"Make a 2 row x 3 column array of random numbers\")\n",
    "x = np.random.random((2, 3))\n",
    "print (x)\n",
    "\n",
    "#array operation (as in R)\n",
    "print (\"Add 5 to every element\")\n",
    "x = x + 5\n",
    "print (x)\n",
    "\n",
    "# get a slice (first row) (as in R)\n",
    "print (\"Get the first row\")\n",
    "print (x[0, :])"
   ]
  },
  {
   "cell_type": "code",
   "execution_count": 3,
   "metadata": {},
   "outputs": [
    {
     "data": {
      "text/plain": [
       "<function ndarray.any>"
      ]
     },
     "execution_count": 3,
     "metadata": {},
     "output_type": "execute_result"
    }
   ],
   "source": [
    "# IPython is quite modern: just press <TAB> at the end of the unfinished statement to see the documentation\n",
    "#       on possible completions.\n",
    "#       In the code cell below, type x.<TAB>, to find built-in operations for x\n",
    "x.any"
   ]
  },
  {
   "cell_type": "code",
   "execution_count": 4,
   "metadata": {},
   "outputs": [
    {
     "data": {
      "image/png": "[encoded data removed]",
      "text/plain": [
       "<Figure size 432x288 with 1 Axes>"
      ]
     },
     "metadata": {
      "needs_background": "light"
     },
     "output_type": "display_data"
    }
   ],
   "source": [
    "%matplotlib inline \n",
    "import matplotlib.pyplot as plt\n",
    "heads = np.random.binomial(500, .5, size=500)\n",
    "histogram = plt.hist(heads, bins=10)"
   ]
  },
  {
   "cell_type": "markdown",
   "metadata": {
    "collapsed": true
   },
   "source": [
    "# Task 1\n",
    "## write a program to produce Fibonacci numbers up to 1000000"
   ]
  },
  {
   "cell_type": "code",
   "execution_count": 8,
   "metadata": {},
   "outputs": [
    {
     "name": "stdout",
     "output_type": "stream",
     "text": [
      "0\n",
      "1\n",
      "1\n",
      "2\n",
      "3\n",
      "5\n",
      "8\n",
      "13\n",
      "21\n",
      "34\n",
      "55\n",
      "89\n",
      "144\n",
      "233\n",
      "377\n",
      "610\n",
      "987\n",
      "1597\n",
      "2584\n",
      "4181\n",
      "6765\n",
      "10946\n",
      "17711\n",
      "28657\n",
      "46368\n",
      "75025\n",
      "121393\n",
      "196418\n",
      "317811\n",
      "514229\n",
      "832040\n",
      "1346269\n"
     ]
    }
   ],
   "source": [
    "firstNum = 0\n",
    "secondNum = 1\n",
    "currNum = 0\n",
    "print(firstNum)\n",
    "print(secondNum)\n",
    "\n",
    "while (currNum < 1000000):\n",
    "    currNum = firstNum + secondNum\n",
    "    print(currNum)\n",
    "    firstNum = secondNum\n",
    "    secondNum = currNum\n"
   ]
  },
  {
   "cell_type": "markdown",
   "metadata": {},
   "source": [
    "# Task 2\n",
    "## write a program to simulate 1000 tosses of a fair coin (use np.random.binomial)\n",
    "## Calculate the mean and standard deviation of that sample"
   ]
  },
  {
   "cell_type": "code",
   "execution_count": 12,
   "metadata": {},
   "outputs": [
    {
     "name": "stdout",
     "output_type": "stream",
     "text": [
      "Standard Deviation: 0.49963886958482323\n",
      "Mean: 0.481\n"
     ]
    }
   ],
   "source": [
    "n, p = 1, .5\n",
    "s = np.random.binomial(n, p, 1000)\n",
    "\n",
    "stdDev = np.std(s)\n",
    "mean = np.mean(s)\n",
    "\n",
    "print(\"Standard Deviation: {}\".format(stdDev))\n",
    "print(\"Mean: {}\".format(mean))"
   ]
  },
  {
   "cell_type": "markdown",
   "metadata": {},
   "source": [
    "# Task 3\n",
    "## Produce a scatterplot of y = 0.5*x+e where x has gaussian (0, 5) and e has gaussian (0, 1) distributions \n",
    "### use numpy.random.normal to generate gaussian distribution"
   ]
  },
  {
   "cell_type": "code",
   "execution_count": 19,
   "metadata": {},
   "outputs": [
    {
     "name": "stdout",
     "output_type": "stream",
     "text": [
      "-6.8815807805620866\n",
      "-0.0669097175648628\n"
     ]
    }
   ],
   "source": [
    "x = np.random.normal(0,5)\n",
    "e = np.random.normal(0,1)\n",
    "print(x)\n",
    "print(e)"
   ]
  },
  {
   "cell_type": "code",
   "execution_count": 25,
   "metadata": {},
   "outputs": [
    {
     "name": "stdout",
     "output_type": "stream",
     "text": [
      "[ 5.90538487e+00 -1.37970488e+00  1.80204681e-01 -1.68960734e+00\n",
      " -6.81193181e-01  2.52973582e+00 -1.86657993e+00 -9.02718269e+00\n",
      " -4.98637073e+00 -6.59437535e-02  2.26387498e+00  1.18144163e+01\n",
      "  6.68423625e+00 -6.76622878e+00  6.32099726e-01  1.48653415e+01\n",
      " -5.04717708e+00  1.74905369e+00  7.50678807e-01  1.66777198e+00\n",
      " -6.74122625e+00 -6.92104595e-01 -3.96212552e+00 -4.35305697e-01\n",
      "  1.19290607e+00 -9.63744637e-01 -7.72589982e+00 -1.98428190e+00\n",
      " -4.52125624e+00  8.07171361e+00  1.34370299e+00 -2.13264621e+00\n",
      " -3.97685511e+00 -5.43201881e-01 -2.32183503e+00 -1.01171141e+00\n",
      " -2.65794618e+00  3.05738098e+00 -2.68323029e+00 -1.51043221e+00\n",
      "  6.92659403e+00  1.01299673e+00 -9.72048021e+00 -5.45692328e+00\n",
      "  1.02637871e+00  4.47285599e+00 -4.66349743e+00 -2.21830265e-01\n",
      " -6.03631782e+00 -2.21707342e+00  7.96026015e+00  3.35039139e+00\n",
      " -2.79239045e+00  3.24092751e+00  4.22508487e+00 -7.40105684e+00\n",
      " -2.64569744e+00 -1.58892673e+00  1.18157898e+00 -3.06971696e+00\n",
      " -6.28956069e+00 -1.05346828e+00  4.34358249e+00 -1.78054576e+00\n",
      " -1.17997587e+00  3.46124106e+00 -1.03961820e+01  1.07025354e+01\n",
      " -6.41936633e+00  5.76458796e+00  3.91223780e+00 -2.92838548e+00\n",
      "  6.98653859e+00  7.24424304e-01 -3.54442822e+00  9.76304300e-03\n",
      " -8.81666422e-01  2.56776758e-01 -5.05533919e+00  2.65891726e+00\n",
      "  9.15523879e-01  1.94761856e+00  1.17578684e+00 -9.68635409e+00\n",
      "  4.44567138e+00 -3.70660521e+00 -5.86651382e+00 -9.62849094e+00\n",
      "  2.62262247e+00  5.36606510e-01 -2.26163452e+00  9.70834964e+00\n",
      " -3.55415130e+00  3.67088432e-01 -3.08451246e+00  5.61271287e+00\n",
      " -1.21220889e+00  1.08990261e+01 -1.83823489e+00 -7.53483657e-01]\n",
      "[ 8.09919521e+00 -4.08389548e+00 -8.58862833e+00 -5.48021510e+00\n",
      "  3.52136106e+00  2.55935228e+00  5.08874095e+00  1.18206769e+00\n",
      "  6.04468319e+00  2.02679572e+00  1.07110701e+01 -3.83123246e+00\n",
      " -9.96958750e+00  1.21180612e+01  4.56657358e+00 -3.04474003e+00\n",
      "  8.41599629e+00  4.04048116e+00  6.86070939e+00  5.74706755e+00\n",
      " -3.16361698e+00 -1.93596696e+00  1.15886958e+00  6.83653503e-01\n",
      " -1.00242906e+00  4.71338555e+00  3.79475088e+00  1.11469528e+01\n",
      " -1.06594888e+00 -5.13041494e+00  1.57188211e-01  1.37367900e+00\n",
      "  4.75650597e-01  9.20948779e+00  1.46785196e+00  2.72730265e+00\n",
      " -7.18759443e+00 -8.00377096e+00  4.47024402e+00 -4.82109193e-01\n",
      " -1.17265617e+00  1.19215643e+00 -3.09691147e+00 -1.60014429e+00\n",
      "  6.83154653e+00  2.14952561e-01  4.01413307e+00  3.73850212e-01\n",
      " -1.10720078e+00 -3.29930364e+00  8.37350764e-01 -1.10709393e+01\n",
      "  1.34213371e+00  1.45681684e+00  3.31821073e-01 -4.01833180e-01\n",
      "  1.33743226e+00  2.43439909e+00  1.05446247e+01 -3.07058437e+00\n",
      " -1.47177654e+00  5.68488975e+00  8.17598730e+00 -1.93841609e+00\n",
      " -2.12929143e+00 -2.40443904e+00  3.46182817e+00  1.02625913e+00\n",
      " -7.14683920e-01 -9.04943439e+00  4.73240659e+00 -2.03847053e+00\n",
      " -9.83783387e+00  4.53998422e+00  7.96850580e+00  9.94282479e+00\n",
      " -6.93437663e-01  3.94783680e+00 -1.41991504e+00 -1.67325303e+00\n",
      "  5.18230246e+00 -2.18153019e+00 -4.75112324e+00 -3.96911482e+00\n",
      "  9.95818436e+00 -1.90800014e+00  4.83662524e+00  5.01308386e+00\n",
      " -5.46277333e-01  6.73498645e+00  8.09977908e-01 -4.01057814e+00\n",
      " -3.21075373e-01  5.31555334e-03 -6.19540477e+00  8.50131908e+00\n",
      "  1.91958247e+00 -3.96498259e+00 -4.58548338e+00 -2.80108510e+00]\n",
      "[11.05188764 -4.77374792 -8.49852599 -6.32501876  3.18076447  3.82422019\n",
      "  4.15545099 -3.33152365  3.55149783  1.99382384 11.84300764  2.07597571\n",
      " -6.62746937  8.73494679  4.88262344  4.38793072  5.89240776  4.91500801\n",
      "  7.23604879  6.58095354 -6.53423011 -2.28201925 -0.82219318  0.46600065\n",
      " -0.40597603  4.23151323 -0.06819903 10.15481181 -3.32657701 -1.09455813\n",
      "  0.82903971  0.30735589 -1.51277696  8.93788685  0.30693445  2.22144695\n",
      " -8.51656752 -6.47508047  3.12862887 -1.2373253   2.29064084  1.69865479\n",
      " -7.95715157 -4.32860593  7.34473588  2.45138056  1.68238435  0.26293508\n",
      " -4.12535969 -4.40784035  4.81748084 -9.39574358 -0.05406151  3.0772806\n",
      "  2.44436351 -4.1023616   0.01458354  1.63993573 11.13541424 -4.60544285\n",
      " -4.61655689  5.15815561 10.34777855 -2.82868897 -2.71927937 -0.67381851\n",
      " -1.73626285  6.37752681 -3.92436709 -6.16714041  6.68852548 -3.50266327\n",
      " -6.34456457  4.90219638  6.19629169  9.94770631 -1.13427087  4.07622517\n",
      " -3.94758464 -0.3437944   5.6400644  -1.20772091 -4.16322982 -8.81229186\n",
      " 12.18102005 -3.76130274  1.90336833  0.19883839  0.7650339   7.0032897\n",
      " -0.32083935  0.84359668 -2.09815102  0.18885977 -7.737661   11.30767551\n",
      "  1.31347803  1.48453044 -5.50460083 -3.17782692]\n"
     ]
    },
    {
     "data": {
      "image/png": "[encoded data removed]",
      "text/plain": [
       "<Figure size 432x288 with 1 Axes>"
      ]
     },
     "metadata": {
      "needs_background": "light"
     },
     "output_type": "display_data"
    }
   ],
   "source": [
    "import numpy as np\n",
    "import matplotlib.pyplot as plt\n",
    "import IPython\n",
    "\n",
    "mu, sigma = 0, 5\n",
    "x = np.random.normal(mu, sigma, 100)\n",
    "print(x)\n",
    "\n",
    "mu, signma = 0, 1\n",
    "e = np.random.normal(mu, sigma, 100)\n",
    "print(e)\n",
    "\n",
    "y = np.add(np.multiply(0.5, x), e)\n",
    "print(y)\n",
    "plt.scatter(x, y)\n",
    "plt.xlabel('x')\n",
    "plt.ylabel('y')\n",
    "plt.show()"
   ]
  },
  {
   "cell_type": "code",
   "execution_count": null,
   "metadata": {},
   "outputs": [],
   "source": []
  },
  {
   "cell_type": "code",
   "execution_count": null,
   "metadata": {},
   "outputs": [],
   "source": []
  },
  {
   "cell_type": "code",
   "execution_count": null,
   "metadata": {},
   "outputs": [],
   "source": []
  }
 ],
 "metadata": {
  "kernelspec": {
   "display_name": "Python 3",
   "language": "python",
   "name": "python3"
  },
  "language_info": {
   "codemirror_mode": {
    "name": "ipython",
    "version": 3
   },
   "file_extension": ".py",
   "mimetype": "text/x-python",
   "name": "python",
   "nbconvert_exporter": "python",
   "pygments_lexer": "ipython3",
   "version": "3.8.2"
  }
 },
 "nbformat": 4,
 "nbformat_minor": 1
}
