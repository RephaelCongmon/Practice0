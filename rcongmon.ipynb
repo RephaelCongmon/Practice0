{
 "cells": [
  {
   "cell_type": "code",
   "execution_count": 1,
   "metadata": {},
   "outputs": [
    {
     "name": "stdout",
     "output_type": "stream",
     "text": [
      "IPython version:      %6.6s 7.17.0\n"
     ]
    }
   ],
   "source": [
    "import IPython\n",
    "import json\n",
    "# Numpy is a library for working with Arrays\n",
    "import numpy as np\n",
    "# SciPy implements many different numerical algorithms\n",
    "import scipy as sp\n",
    "# Pandas is good with data tables\n",
    "import pandas as pd\n",
    "# Module for plotting\n",
    "import matplotlib\n",
    "#BeautifulSoup parses HTML documents (once you get them via requests)\n",
    "import bs4\n",
    "# Nltk helps with some natural language tasks, like stemming\n",
    "import nltk\n",
    "# Bson is a binary format of json to be stored in databases\n",
    "import bson\n",
    "# Mongo is one of common nosql databases \n",
    "# it stores/searches json documents natively\n",
    "import pymongo\n",
    "print (\"IPython version:      %6.6s\", IPython.__version__)"
   ]
  },
  {
   "cell_type": "code",
   "execution_count": 2,
   "metadata": {},
   "outputs": [
    {
     "name": "stdout",
     "output_type": "stream",
     "text": [
      "Make a 2 row x 3 column array of random numbers\n",
      "[[0.35657976 0.56842876 0.70888426]\n",
      " [0.56147684 0.04038492 0.27796032]]\n",
      "Add 5 to every element\n",
      "[[5.35657976 5.56842876 5.70888426]\n",
      " [5.56147684 5.04038492 5.27796032]]\n",
      "Get the first row\n",
      "[5.35657976 5.56842876 5.70888426]\n"
     ]
    }
   ],
   "source": [
    "#Here is what numpy can do\\n\",\n",
    "print (\"Make a 2 row x 3 column array of random numbers\")\n",
    "x = np.random.random((2, 3))\n",
    "print (x)\n",
    "\n",
    "#array operation (as in R)\n",
    "print (\"Add 5 to every element\")\n",
    "x = x + 5\n",
    "print (x)\n",
    "\n",
    "# get a slice (first row) (as in R)\n",
    "print (\"Get the first row\")\n",
    "print (x[0, :])"
   ]
  },
  {
   "cell_type": "code",
   "execution_count": 3,
   "metadata": {},
   "outputs": [
    {
     "data": {
      "text/plain": [
       "<function ndarray.any>"
      ]
     },
     "execution_count": 3,
     "metadata": {},
     "output_type": "execute_result"
    }
   ],
   "source": [
    "# IPython is quite modern: just press <TAB> at the end of the unfinished statement to see the documentation\n",
    "#       on possible completions.\n",
    "#       In the code cell below, type x.<TAB>, to find built-in operations for x\n",
    "x.any"
   ]
  },
  {
   "cell_type": "code",
   "execution_count": 4,
   "metadata": {},
   "outputs": [
    {
     "data": {
      "image/png": "[encoded data removed]",
      "text/plain": [
       "<Figure size 432x288 with 1 Axes>"
      ]
     },
     "metadata": {
      "needs_background": "light"
     },
     "output_type": "display_data"
    }
   ],
   "source": [
    "%matplotlib inline \n",
    "import matplotlib.pyplot as plt\n",
    "heads = np.random.binomial(500, .5, size=500)\n",
    "histogram = plt.hist(heads, bins=10)"
   ]
  },
  {
   "cell_type": "markdown",
   "metadata": {
    "collapsed": true
   },
   "source": [
    "# Task 1\n",
    "## write a program to produce Fibonacci numbers up to 1000000"
   ]
  },
  {
   "cell_type": "code",
   "execution_count": 8,
   "metadata": {},
   "outputs": [
    {
     "name": "stdout",
     "output_type": "stream",
     "text": [
      "0\n",
      "1\n",
      "1\n",
      "2\n",
      "3\n",
      "5\n",
      "8\n",
      "13\n",
      "21\n",
      "34\n",
      "55\n",
      "89\n",
      "144\n",
      "233\n",
      "377\n",
      "610\n",
      "987\n",
      "1597\n",
      "2584\n",
      "4181\n",
      "6765\n",
      "10946\n",
      "17711\n",
      "28657\n",
      "46368\n",
      "75025\n",
      "121393\n",
      "196418\n",
      "317811\n",
      "514229\n",
      "832040\n",
      "1346269\n"
     ]
    }
   ],
   "source": [
    "firstNum = 0\n",
    "secondNum = 1\n",
    "currNum = 0\n",
    "print(firstNum)\n",
    "print(secondNum)\n",
    "\n",
    "while (currNum < 1000000):\n",
    "    currNum = firstNum + secondNum\n",
    "    print(currNum)\n",
    "    firstNum = secondNum\n",
    "    secondNum = currNum\n"
   ]
  },
  {
   "cell_type": "markdown",
   "metadata": {},
   "source": [
    "# Task 2\n",
    "## write a program to simulate 1000 tosses of a fair coin (use np.random.binomial)\n",
    "## Calculate the mean and standard deviation of that sample"
   ]
  },
  {
   "cell_type": "code",
   "execution_count": 12,
   "metadata": {},
   "outputs": [
    {
     "name": "stdout",
     "output_type": "stream",
     "text": [
      "Standard Deviation: 0.49963886958482323\n",
      "Mean: 0.481\n"
     ]
    }
   ],
   "source": [
    "n, p = 1, .5\n",
    "s = np.random.binomial(n, p, 1000)\n",
    "\n",
    "stdDev = np.std(s)\n",
    "mean = np.mean(s)\n",
    "\n",
    "print(\"Standard Deviation: {}\".format(stdDev))\n",
    "print(\"Mean: {}\".format(mean))"
   ]
  },
  {
   "cell_type": "markdown",
   "metadata": {},
   "source": [
    "# Task 3\n",
    "## Produce a scatterplot of y = 0.5*x+e where x has gaussian (0, 5) and e has gaussian (0, 1) distributions \n",
    "### use numpy.random.normal to generate gaussian distribution"
   ]
  },
  {
   "cell_type": "code",
   "execution_count": 26,
   "metadata": {},
   "outputs": [
    {
     "name": "stdout",
     "output_type": "stream",
     "text": [
      "[  5.89598689  -3.46907408  -0.98634553   4.8889526    0.40213657\n",
      "  -1.61004936  -3.56086281   5.91383169  -1.13523404  -2.51038909\n",
      "   7.65799857  11.77595851  -3.20862298   3.32653875  -7.10802814\n",
      "   4.83687094   1.80642648  -2.3621655   -1.47397331 -10.82924365\n",
      "  -0.72339985  -5.20236333  -2.08323962   7.35270831   5.45695562\n",
      "  -5.14606999   5.81259641  -0.39974969   9.25488175  -5.71664361\n",
      "  12.48904251  -4.30963357  -6.32410978  10.29820427   2.13080885\n",
      "  -7.21789665   3.4337636    2.44432358  10.37183453  -5.1276957\n",
      "  -2.33250434   7.04057746   1.45058461   3.51756634  -1.85197114\n",
      "  -3.14576516  -8.06004023 -10.99512263  -5.13255798   7.28295292\n",
      "  -1.38437757   0.80560944   8.79750757   1.25072638  -3.57887437\n",
      "  -4.09928024   7.57271134   7.25541406   3.28657882  -9.94551134\n",
      "   1.15013618   5.75015999  -3.78223577  -8.2383612   -4.18303271\n",
      "   7.2347652   -5.25274589  12.88834685  -0.78567349   3.55561283\n",
      "  -1.41092692   2.06965834   1.83400476  -9.77013277   6.07733981\n",
      "  -0.98253813  10.30747422   3.36911408   2.9362856   -0.17887615\n",
      "   3.74508638  -0.59861905   2.05342862  -3.14104642  11.73327539\n",
      "  -1.43712153   6.40181932   2.77188725   7.25135331   2.22575901\n",
      "  -7.71776011   4.5441724    4.71084963  -2.16606471   1.01935974\n",
      "  -7.45373581  -4.64095361  -0.55966057  -4.4406315   -6.4204881 ]\n",
      "[  1.87074686  -1.87041013   8.93370689  -1.95219209   1.63380238\n",
      "   2.1908712    6.08953913   8.24420445  -9.24513566   2.59296933\n",
      "  -9.89179134  -3.18687837  -1.53235718  -7.3650342   -5.11827973\n",
      "   5.3802214   -2.88180613   2.38320116   4.17699582   2.41378456\n",
      "   3.80891455   3.05067134   8.13146776   2.94623331   5.82801473\n",
      "  10.71843833   2.69154104   5.92806016  -1.1166427   -7.00563486\n",
      "  -3.18820769   7.50614805   2.95264875  -1.0810842    9.18154564\n",
      "  -3.16084736  -6.93736776   2.8883508    5.96696781 -13.12353584\n",
      "   6.00534523  -7.29445113  -5.41390345  -1.78594946  -3.65691153\n",
      "  -3.03433813   0.29721741   7.77087027   5.67278517  -0.05987878\n",
      "   6.2707361   -2.96249286  -0.85799894  11.16738111   2.73757207\n",
      "  -2.18043605  -2.67708317  -8.3494907   -8.97442221  -3.43066158\n",
      "   8.28302696   0.17029404  -7.13462731   7.26990347   0.34932229\n",
      "   0.48840774   3.4167591   10.70075026  -0.83165493  -1.44790232\n",
      "   2.17015392   1.72740119  -9.98011335   6.67985126   1.35512907\n",
      "   5.47561415   0.14694429   4.13698173   4.28550002  -4.31182729\n",
      "   1.76028397  -1.21740093   3.8936918   -0.34185766   0.03375763\n",
      "  -1.28430867  -4.52575091  -2.81331935   3.76488106 -12.18208452\n",
      "   5.85970376   2.09379787  -2.85183057  -0.52956291   4.79862947\n",
      "  -0.62963987  -0.71390486  -6.51022208  -1.89994549  -1.95015443]\n",
      "[  4.8187403   -3.60494717   8.44053413   0.49228421   1.83487067\n",
      "   1.38584652   4.30910773  11.2011203   -9.81275268   1.33777478\n",
      "  -6.06279206   2.70110089  -3.13666867  -5.70176483  -8.6722938\n",
      "   7.79865687  -1.97859289   1.20211841   3.44000916  -3.00083727\n",
      "   3.44721463   0.44948968   7.08984795   6.62258746   8.55649254\n",
      "   8.14540334   5.59783925   5.72818531   3.51079817  -9.86395667\n",
      "   3.05631356   5.35133126  -0.20940614   4.06801793  10.24695006\n",
      "  -6.76979569  -5.22048596   4.11051258  11.15288508 -15.68738369\n",
      "   4.83909306  -3.7741624   -4.68861115  -0.02716629  -4.5828971\n",
      "  -4.60722071  -3.73280271   2.27330896   3.10650618   3.58159768\n",
      "   5.57854732  -2.55968814   3.54075485  11.79274431   0.94813488\n",
      "  -4.23007617   1.1092725   -4.72178367  -7.33113281  -8.40341725\n",
      "   8.85809505   3.04537403  -9.02574519   3.15072287  -1.74219406\n",
      "   4.10579034   0.79038616  17.14492369  -1.22449167   0.32990409\n",
      "   1.46469045   2.76223036  -9.06311097   1.79478487   4.39379897\n",
      "   4.98434508   5.30068139   5.82153877   5.75364282  -4.40126536\n",
      "   3.63282716  -1.51671045   4.92040611  -1.91238087   5.90039532\n",
      "  -2.00286943  -1.32484125  -1.42737573   7.39055772 -11.06920501\n",
      "   2.0008237    4.36588407  -0.49640575  -1.61259527   5.30830935\n",
      "  -4.35650777  -3.03438167  -6.79005237  -4.12026124  -5.16039849]\n"
     ]
    },
    {
     "data": {
      "image/png": "[encoded data removed]",
      "text/plain": [
       "<Figure size 432x288 with 1 Axes>"
      ]
     },
     "metadata": {
      "needs_background": "light"
     },
     "output_type": "display_data"
    }
   ],
   "source": [
    "import numpy as np\n",
    "import matplotlib.pyplot as plt\n",
    "import IPython\n",
    "\n",
    "mu, sigma = 0, 5\n",
    "x = np.random.normal(mu, sigma, 100)\n",
    "print(x)\n",
    "\n",
    "mu, signma = 0, 1\n",
    "e = np.random.normal(mu, sigma, 100)\n",
    "print(e)\n",
    "\n",
    "y = np.add(np.multiply(0.5, x), e)\n",
    "print(y)\n",
    "plt.scatter(x, y)\n",
    "plt.xlabel('x')\n",
    "plt.ylabel('y')\n",
    "plt.show()"
   ]
  }
 ],
 "metadata": {
  "kernelspec": {
   "display_name": "Python 3",
   "language": "python",
   "name": "python3"
  },
  "language_info": {
   "codemirror_mode": {
    "name": "ipython",
    "version": 3
   },
   "file_extension": ".py",
   "mimetype": "text/x-python",
   "name": "python",
   "nbconvert_exporter": "python",
   "pygments_lexer": "ipython3",
   "version": "3.8.2"
  }
 },
 "nbformat": 4,
 "nbformat_minor": 1
}
